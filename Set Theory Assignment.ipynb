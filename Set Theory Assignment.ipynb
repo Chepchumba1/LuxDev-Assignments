{
 "cells": [
  {
   "cell_type": "markdown",
   "id": "11c69228",
   "metadata": {},
   "source": [
    "#### Let's consider the following sets:\n",
    "- Ω= {1,2,3,4,5,6,7,8,9,10,11,12}\n",
    "- A={2,4,6,8,10}\n",
    "- B={3,8,11,12}\n",
    "- C={2,3,6,8,9,11}"
   ]
  },
  {
   "cell_type": "code",
   "execution_count": 166,
   "id": "0dfd313d",
   "metadata": {},
   "outputs": [
    {
     "name": "stdout",
     "output_type": "stream",
     "text": [
      "Intersection of A and B: {8}\n"
     ]
    }
   ],
   "source": [
    "Ω= {1,2,3,4,5,6,7,8,9,10,11,12}\n",
    "A={2,4,6,8,10}\n",
    "B={3,8,11,12}\n",
    "C={2,3,6,8,9,11}\n",
    "\n",
    "# $ A \\cap B$  A intersection B\n",
    "intersection_AB= A.intersection(B)\n",
    "print (\"Intersection of A and B:\",intersection_AB)"
   ]
  },
  {
   "cell_type": "code",
   "execution_count": 167,
   "id": "25358c2b",
   "metadata": {},
   "outputs": [
    {
     "name": "stdout",
     "output_type": "stream",
     "text": [
      "Union of A and C: {2, 3, 4, 6, 8, 9, 10, 11}\n"
     ]
    }
   ],
   "source": [
    "#$ A \\cup C$ A union C\n",
    "union_AC=A.union(C)\n",
    "print (\"Union of A and C:\", union_AC)"
   ]
  },
  {
   "cell_type": "code",
   "execution_count": 168,
   "id": "5b365954",
   "metadata": {},
   "outputs": [
    {
     "name": "stdout",
     "output_type": "stream",
     "text": [
      "The absolute complement of A: {1, 3, 5, 7, 9, 11, 12}\n"
     ]
    }
   ],
   "source": [
    "#Ac Absolute complement of A\n",
    "absolute_complement_A=Ω-A\n",
    "print (\"The absolute complement of A:\", absolute_complement_A)"
   ]
  },
  {
   "cell_type": "code",
   "execution_count": 169,
   "id": "daac9bc0",
   "metadata": {},
   "outputs": [
    {
     "name": "stdout",
     "output_type": "stream",
     "text": [
      "The absolute complement of B: {1, 2, 4, 5, 6, 7, 9, 10}\n"
     ]
    }
   ],
   "source": [
    "# Ab Absolute complement of B\n",
    "absolute_complement_B=Ω-B\n",
    "print (\"The absolute complement of B:\", absolute_complement_B)"
   ]
  },
  {
   "cell_type": "code",
   "execution_count": 170,
   "id": "25c95521",
   "metadata": {},
   "outputs": [
    {
     "name": "stdout",
     "output_type": "stream",
     "text": [
      "Union of A and B: {2, 3, 4, 6, 8, 10, 11, 12}\n",
      "The absolute complement of A union B: {1, 5, 9, 7}\n"
     ]
    }
   ],
   "source": [
    "#(A∪B)c Absolute complement of A union B\n",
    "union_AB=A.union(B)\n",
    "print(\"Union of A and B:\", union_AB)\n",
    "absolute_complement_AB=Ω-union_AB\n",
    "print(\"The absolute complement of A union B:\", absolute_complement_AB)"
   ]
  },
  {
   "cell_type": "code",
   "execution_count": 171,
   "id": "c1003112",
   "metadata": {},
   "outputs": [
    {
     "name": "stdout",
     "output_type": "stream",
     "text": [
      "B intersection C: {8, 11, 3}\n",
      "The absolute complement of B intersection C: {1, 2, 4, 5, 6, 7, 9, 10, 12}\n"
     ]
    }
   ],
   "source": [
    "#B∩C′ Absolute complement of B intersection C\n",
    "intersection_BC=B.intersection(C)\n",
    "print (\"B intersection C:\", intersection_BC)\n",
    "absolute_complement_BC=Ω-intersection_BC\n",
    "print (\"The absolute complement of B intersection C:\", absolute_complement_BC)"
   ]
  },
  {
   "cell_type": "code",
   "execution_count": 172,
   "id": "6b35a349",
   "metadata": {},
   "outputs": [
    {
     "name": "stdout",
     "output_type": "stream",
     "text": [
      "The relative complement of B in A: {2, 10, 4, 6}\n"
     ]
    }
   ],
   "source": [
    "#A\\B Realtive complement of B in A\n",
    "relative_complement_AB=A.difference(B)\n",
    "print (\"The relative complement of B in A:\", relative_complement_AB)"
   ]
  },
  {
   "cell_type": "code",
   "execution_count": 173,
   "id": "aa7ec732",
   "metadata": {},
   "outputs": [
    {
     "name": "stdout",
     "output_type": "stream",
     "text": [
      "The relative complement of A in B: {11, 3, 12}\n",
      "The relative complement: {8, 9, 2, 6}\n"
     ]
    }
   ],
   "source": [
    "#C\\(B\\A) Relative complement of C in the relative complement of A in B\n",
    "relative_complement_BA= B.difference(A)\n",
    "print (\"The relative complement of A in B:\", relative_complement_BA)\n",
    "relative_complement_C_BA=C.difference(relative_complement_BA)\n",
    "print(\"The relative complement:\", relative_complement_C_BA)"
   ]
  },
  {
   "cell_type": "code",
   "execution_count": 174,
   "id": "9ceb0224",
   "metadata": {},
   "outputs": [
    {
     "name": "stdout",
     "output_type": "stream",
     "text": [
      "C intersection A: {8, 2, 6}\n",
      "The relative complement of B in C: {9, 2, 6}\n",
      "The union between C intersection A and relative complement of B in C: {2, 6, 8, 9}\n"
     ]
    }
   ],
   "source": [
    "#(C∩A)∪(C∖B) Union between C intersection A and relative complement of B in C\n",
    "intersection_CA=C.intersection(A)\n",
    "print(\"C intersection A:\", intersection_CA)\n",
    "relative_complement_CB=C.difference(B)\n",
    "print (\"The relative complement of B in C:\", relative_complement_CB)\n",
    "union=intersection_CA.union(relative_complement_CB)\n",
    "print(\"The union between C intersection A and relative complement of B in C:\", union)"
   ]
  },
  {
   "cell_type": "markdown",
   "id": "1a443666",
   "metadata": {},
   "source": [
    "#### Verifying Answers"
   ]
  },
  {
   "cell_type": "code",
   "execution_count": 175,
   "id": "048adce3",
   "metadata": {},
   "outputs": [
    {
     "data": {
      "text/plain": [
       "True"
      ]
     },
     "execution_count": 175,
     "metadata": {},
     "output_type": "execute_result"
    }
   ],
   "source": [
    "# Verify that the A intersection B is 8\n",
    "intersection_AB=={8}"
   ]
  },
  {
   "cell_type": "code",
   "execution_count": 176,
   "id": "bd0b3b0a",
   "metadata": {},
   "outputs": [
    {
     "data": {
      "text/plain": [
       "True"
      ]
     },
     "execution_count": 176,
     "metadata": {},
     "output_type": "execute_result"
    }
   ],
   "source": [
    "# Verify that A union C is {2, 3, 4, 6, 8, 9, 10, 11}\n",
    "union_AC=={2, 3, 4, 6, 8, 9, 10, 11}"
   ]
  },
  {
   "cell_type": "code",
   "execution_count": 177,
   "id": "38992609",
   "metadata": {},
   "outputs": [
    {
     "data": {
      "text/plain": [
       "True"
      ]
     },
     "execution_count": 177,
     "metadata": {},
     "output_type": "execute_result"
    }
   ],
   "source": [
    "# Verify that the absolute complement of A in{1, 3, 5, 7, 9, 11, 12}\n",
    "absolute_complement_A=={1, 3, 5, 7, 9, 11, 12}"
   ]
  },
  {
   "cell_type": "code",
   "execution_count": 178,
   "id": "9074b392",
   "metadata": {},
   "outputs": [
    {
     "data": {
      "text/plain": [
       "True"
      ]
     },
     "execution_count": 178,
     "metadata": {},
     "output_type": "execute_result"
    }
   ],
   "source": [
    "# verify that the absolute complement of B is {1, 2, 4, 5, 6, 7, 9, 10}\n",
    "absolute_complement_B=={1, 2, 4, 5, 6, 7, 9, 10}"
   ]
  },
  {
   "cell_type": "code",
   "execution_count": 179,
   "id": "79f978bc",
   "metadata": {},
   "outputs": [
    {
     "data": {
      "text/plain": [
       "True"
      ]
     },
     "execution_count": 179,
     "metadata": {},
     "output_type": "execute_result"
    }
   ],
   "source": [
    "# Verify that the absolute complement of A union B in {1, 5, 9, 7}\n",
    "absolute_complement_AB=={1, 5, 9, 7}"
   ]
  },
  {
   "cell_type": "code",
   "execution_count": 180,
   "id": "72fd2ed6",
   "metadata": {},
   "outputs": [
    {
     "data": {
      "text/plain": [
       "True"
      ]
     },
     "execution_count": 180,
     "metadata": {},
     "output_type": "execute_result"
    }
   ],
   "source": [
    "# Verify that the absolute complement of B intersection C is {1, 2, 4, 5, 6, 7, 9, 10, 12}\n",
    "absolute_complement_BC=={1, 2, 4, 5, 6, 7, 9, 10, 12}"
   ]
  },
  {
   "cell_type": "code",
   "execution_count": 181,
   "id": "818eea5a",
   "metadata": {},
   "outputs": [
    {
     "data": {
      "text/plain": [
       "True"
      ]
     },
     "execution_count": 181,
     "metadata": {},
     "output_type": "execute_result"
    }
   ],
   "source": [
    "# Verify that the relative complement of B in A is {2, 10, 4, 6}\n",
    "relative_complement_AB=={2, 10, 4, 6}"
   ]
  },
  {
   "cell_type": "code",
   "execution_count": 182,
   "id": "2d452206",
   "metadata": {},
   "outputs": [
    {
     "data": {
      "text/plain": [
       "True"
      ]
     },
     "execution_count": 182,
     "metadata": {},
     "output_type": "execute_result"
    }
   ],
   "source": [
    "# Verify that the relative complement of C in the relative complement of A in B is {8, 9, 2, 6}\n",
    "relative_complement_C_BA=={8, 9, 2, 6}"
   ]
  },
  {
   "cell_type": "code",
   "execution_count": 183,
   "id": "ccb83dbe",
   "metadata": {},
   "outputs": [
    {
     "data": {
      "text/plain": [
       "True"
      ]
     },
     "execution_count": 183,
     "metadata": {},
     "output_type": "execute_result"
    }
   ],
   "source": [
    "# Verify that the union between C intersection A and relative complement of B in C is {2, 6, 8, 9}\n",
    "union=={2, 6, 8, 9}"
   ]
  },
  {
   "cell_type": "markdown",
   "id": "1c6e633e",
   "metadata": {},
   "source": [
    "#### Inclusion-Exclusion Principle"
   ]
  },
  {
   "cell_type": "code",
   "execution_count": 184,
   "id": "77f1e3f6",
   "metadata": {},
   "outputs": [
    {
     "name": "stdout",
     "output_type": "stream",
     "text": [
      "Number of elements of the right hand side: 9\n"
     ]
    }
   ],
   "source": [
    "#∣A∪B∪C∣=∣A∣+∣B∣+∣C∣−∣A∩B∣−∣A∩C∣−∣B∩C∣+∣A∩B∩C|\n",
    "#Counting the elements on the left hand side comparing to the elements of the right hand side\n",
    "#len() is used to count the number of elements\n",
    "count_1=A.union(B).union(C)\n",
    "left_hand_side=len(count_1)\n",
    "print (\"Number of elements of the right hand side:\", left_hand_side)"
   ]
  },
  {
   "cell_type": "code",
   "execution_count": 185,
   "id": "15d38fbf",
   "metadata": {},
   "outputs": [
    {
     "name": "stdout",
     "output_type": "stream",
     "text": [
      "The cardinality of A: 5\n"
     ]
    }
   ],
   "source": [
    "#summing the number of elements on the left hand side\n",
    "count_A=len(A)\n",
    "print(\"The cardinality of A:\", count_A)"
   ]
  },
  {
   "cell_type": "code",
   "execution_count": 186,
   "id": "ecc2a73d",
   "metadata": {},
   "outputs": [
    {
     "name": "stdout",
     "output_type": "stream",
     "text": [
      "The cardinality of B: 4\n"
     ]
    }
   ],
   "source": [
    "count_B=len(B)\n",
    "print(\"The cardinality of B:\", count_B)"
   ]
  },
  {
   "cell_type": "code",
   "execution_count": 187,
   "id": "321cfdec",
   "metadata": {},
   "outputs": [
    {
     "name": "stdout",
     "output_type": "stream",
     "text": [
      "The cardinality of C: 6\n"
     ]
    }
   ],
   "source": [
    "count_C=len(C)\n",
    "print(\"The cardinality of C:\", count_C)"
   ]
  },
  {
   "cell_type": "code",
   "execution_count": 188,
   "id": "0a82b8a1",
   "metadata": {},
   "outputs": [
    {
     "name": "stdout",
     "output_type": "stream",
     "text": [
      "The cardinality of A intersection B: 1\n"
     ]
    }
   ],
   "source": [
    "#|A∩B∣ gives the cardiality of A intersection B\n",
    "count_AB=len(A.intersection(B))\n",
    "print(\"The cardinality of A intersection B:\", count_AB)"
   ]
  },
  {
   "cell_type": "code",
   "execution_count": 189,
   "id": "955fc5f3",
   "metadata": {},
   "outputs": [
    {
     "name": "stdout",
     "output_type": "stream",
     "text": [
      "The cardinality of A intersection C: 3\n"
     ]
    }
   ],
   "source": [
    "#|A∩C∣ gives the cardiality of A intersection C\n",
    "count_AC=len(A.intersection(C))\n",
    "print(\"The cardinality of A intersection C:\", count_AC)"
   ]
  },
  {
   "cell_type": "code",
   "execution_count": 190,
   "id": "acc3cb60",
   "metadata": {},
   "outputs": [
    {
     "name": "stdout",
     "output_type": "stream",
     "text": [
      "The cardinality of B intersection C: 3\n"
     ]
    }
   ],
   "source": [
    "#|B∩C∣ gives the cardiality of B intersection C\n",
    "count_BC=len(B.intersection(C))\n",
    "print(\"The cardinality of B intersection C:\", count_BC)"
   ]
  },
  {
   "cell_type": "code",
   "execution_count": 191,
   "id": "a50b04d7",
   "metadata": {},
   "outputs": [
    {
     "name": "stdout",
     "output_type": "stream",
     "text": [
      "The cardinality of intersection A,B,C: 1\n"
     ]
    }
   ],
   "source": [
    "#|A∩B∩C| gives the cardinality of the intersection of A,B,C\n",
    "count_ABC=len(A.intersection(B).intersection(C))\n",
    "print(\"The cardinality of intersection A,B,C:\", count_ABC)"
   ]
  },
  {
   "cell_type": "code",
   "execution_count": 192,
   "id": "2be77970",
   "metadata": {},
   "outputs": [
    {
     "name": "stdout",
     "output_type": "stream",
     "text": [
      "The cardinality of the right hand side equation: 9\n"
     ]
    }
   ],
   "source": [
    "#cardinality of the right hand side equation\n",
    "right_hand_side=count_A+count_B+count_C-count_AB-count_AC-count_BC+count_ABC\n",
    "print(\"The cardinality of the right hand side equation:\", right_hand_side)"
   ]
  },
  {
   "cell_type": "code",
   "execution_count": 193,
   "id": "ef91ef86",
   "metadata": {},
   "outputs": [
    {
     "data": {
      "text/plain": [
       "True"
      ]
     },
     "execution_count": 193,
     "metadata": {},
     "output_type": "execute_result"
    }
   ],
   "source": [
    "#verifying the cardinality of the left hand side equation and right hand side equation\n",
    "left_hand_side==right_hand_side"
   ]
  },
  {
   "cell_type": "code",
   "execution_count": 194,
   "id": "9b8fbc99",
   "metadata": {},
   "outputs": [
    {
     "name": "stdout",
     "output_type": "stream",
     "text": [
      "Eve's updated pets list: {'Rabbit', 'Goldfish'}\n"
     ]
    }
   ],
   "source": [
    "Nina = set([\"Cat\",\"Dog\",\"Rabbit\",\"Donkey\",\"Parrot\", \"Goldfish\"])\n",
    "Mary = set([\"Dog\",\"Chinchilla\",\"Horse\", \"Chicken\"])\n",
    "Eve = set([\"Rabbit\", \"Turtle\", \"Goldfish\"])\n",
    "#Updating Eve's list after her tutrle passed away\n",
    "eve_update=Eve.remove(\"Turtle\")\n",
    "print (\"Eve's updated pets list:\" , Eve)"
   ]
  },
  {
   "cell_type": "code",
   "execution_count": 195,
   "id": "24cd273a",
   "metadata": {},
   "outputs": [
    {
     "name": "stdout",
     "output_type": "stream",
     "text": [
      "Nina's updated pets list: {'Donkey', 'Parrot', 'Chinchilla', 'Dog', 'Cat', 'Rabbit', 'Horse', 'Goldfish', 'Chicken'}\n"
     ]
    }
   ],
   "source": [
    "#Updating Nina's pets list after agreeing to care for Mary's pets\n",
    "nina_updated=Nina.update(Mary)\n",
    "print(\"Nina's updated pets list:\", Nina)"
   ]
  },
  {
   "cell_type": "code",
   "execution_count": 196,
   "id": "4504135b",
   "metadata": {},
   "outputs": [
    {
     "name": "stdout",
     "output_type": "stream",
     "text": [
      "Mary's cleared pets list: set()\n"
     ]
    }
   ],
   "source": [
    "#clearing Mary's list\n",
    "mary_clear=Mary.clear()\n",
    "print(\"Mary's cleared pets list:\", Mary)"
   ]
  },
  {
   "cell_type": "code",
   "execution_count": 197,
   "id": "d07015bc",
   "metadata": {},
   "outputs": [
    {
     "name": "stdout",
     "output_type": "stream",
     "text": [
      "Nina is looking after 9 species\n"
     ]
    }
   ],
   "source": [
    "##counting the number of pets Nina is taking care of\n",
    "count_species=len(Nina)\n",
    "print (f\"Nina is looking after {count_species} species\")"
   ]
  },
  {
   "cell_type": "code",
   "execution_count": 198,
   "id": "92af697d",
   "metadata": {},
   "outputs": [
    {
     "name": "stdout",
     "output_type": "stream",
     "text": [
      "The same species between Nina and Eve: {'Rabbit', 'Goldfish'}\n"
     ]
    }
   ],
   "source": [
    "#Nina gives away some pets of the same species to Eve\n",
    "same_species=Nina.intersection(Eve)\n",
    "print (\"The same species between Nina and Eve:\",same_species) "
   ]
  },
  {
   "cell_type": "code",
   "execution_count": 199,
   "id": "1734530c",
   "metadata": {},
   "outputs": [
    {
     "name": "stdout",
     "output_type": "stream",
     "text": [
      "The number of animals left: 7\n"
     ]
    }
   ],
   "source": [
    "#how many animals is Nina left with\n",
    "Left_animals=Nina.difference_update(Eve)\n",
    "count_pets_left=len(Nina)\n",
    "print (\"The number of animals left:\", count_pets_left) "
   ]
  },
  {
   "cell_type": "markdown",
   "id": "c2713946",
   "metadata": {},
   "source": [
    "#### European Countries"
   ]
  },
  {
   "cell_type": "code",
   "execution_count": 255,
   "id": "f8da13e4",
   "metadata": {},
   "outputs": [],
   "source": [
    "import pandas as pd\n",
    "europe=pd.read_excel(\"Europe_and_EU.xlsx\", sheet_name=\"Europe\")\n",
    "eu=pd.read_excel(\"Europe_and_EU.xlsx\", sheet_name=\"EU\")"
   ]
  },
  {
   "cell_type": "code",
   "execution_count": 256,
   "id": "5a701a82",
   "metadata": {},
   "outputs": [
    {
     "name": "stdout",
     "output_type": "stream",
     "text": [
      "<class 'pandas.core.frame.DataFrame'>\n",
      "RangeIndex: 57 entries, 0 to 56\n",
      "Data columns (total 11 columns):\n",
      " #   Column                              Non-Null Count  Dtype  \n",
      "---  ------                              --------------  -----  \n",
      " 0   Rank                                49 non-null     float64\n",
      " 1   Country                             57 non-null     object \n",
      " 2   Population                          57 non-null     int64  \n",
      " 3   % of population                     57 non-null     float64\n",
      " 4   Average relative annual growth (%)  57 non-null     float64\n",
      " 5   Average absolute annual growth      57 non-null     int64  \n",
      " 6   Estimated doubling time (Years)     57 non-null     object \n",
      " 7   Official figure (where available)   57 non-null     int64  \n",
      " 8   Date of last figure                 57 non-null     object \n",
      " 9   Regional grouping                   38 non-null     object \n",
      " 10  Source                              57 non-null     object \n",
      "dtypes: float64(3), int64(3), object(5)\n",
      "memory usage: 5.0+ KB\n"
     ]
    }
   ],
   "source": [
    "europe.info()"
   ]
  },
  {
   "cell_type": "code",
   "execution_count": 257,
   "id": "903fe9f3",
   "metadata": {},
   "outputs": [
    {
     "name": "stdout",
     "output_type": "stream",
     "text": [
      "<class 'pandas.core.frame.DataFrame'>\n",
      "RangeIndex: 28 entries, 0 to 27\n",
      "Data columns (total 9 columns):\n",
      " #   Column                          Non-Null Count  Dtype         \n",
      "---  ------                          --------------  -----         \n",
      " 0   Rank                            28 non-null     int64         \n",
      " 1   Country                         28 non-null     object        \n",
      " 2   2017 population                 28 non-null     int64         \n",
      " 3   % of pop.                       28 non-null     float64       \n",
      " 4   Average relative annual growth  28 non-null     float64       \n",
      " 5   Average absolute annual growth  28 non-null     int64         \n",
      " 6   Official figure                 28 non-null     int64         \n",
      " 7   Date of last figure             28 non-null     datetime64[ns]\n",
      " 8   Source                          28 non-null     object        \n",
      "dtypes: datetime64[ns](1), float64(2), int64(4), object(2)\n",
      "memory usage: 2.1+ KB\n"
     ]
    }
   ],
   "source": [
    "eu.info()"
   ]
  },
  {
   "cell_type": "code",
   "execution_count": 258,
   "id": "384b9b99",
   "metadata": {},
   "outputs": [],
   "source": [
    "#removing whitespaces from the column \"country\" in the dataframes\n",
    "europe[\"Country\"]=europe[\"Country\"].str.strip()\n",
    "eu[\"Country\"]=eu[\"Country\"].str.strip()"
   ]
  },
  {
   "cell_type": "code",
   "execution_count": 259,
   "id": "f500ab22",
   "metadata": {},
   "outputs": [
    {
     "data": {
      "text/html": [
       "<div>\n",
       "<style scoped>\n",
       "    .dataframe tbody tr th:only-of-type {\n",
       "        vertical-align: middle;\n",
       "    }\n",
       "\n",
       "    .dataframe tbody tr th {\n",
       "        vertical-align: top;\n",
       "    }\n",
       "\n",
       "    .dataframe thead th {\n",
       "        text-align: right;\n",
       "    }\n",
       "</style>\n",
       "<table border=\"1\" class=\"dataframe\">\n",
       "  <thead>\n",
       "    <tr style=\"text-align: right;\">\n",
       "      <th></th>\n",
       "      <th>Rank</th>\n",
       "      <th>Country</th>\n",
       "      <th>Population</th>\n",
       "      <th>% of population</th>\n",
       "      <th>Average relative annual growth (%)</th>\n",
       "      <th>Average absolute annual growth</th>\n",
       "      <th>Estimated doubling time (Years)</th>\n",
       "      <th>Official figure (where available)</th>\n",
       "      <th>Date of last figure</th>\n",
       "      <th>Regional grouping</th>\n",
       "      <th>Source</th>\n",
       "    </tr>\n",
       "  </thead>\n",
       "  <tbody>\n",
       "    <tr>\n",
       "      <th>0</th>\n",
       "      <td>1.0</td>\n",
       "      <td>Russia</td>\n",
       "      <td>143964709</td>\n",
       "      <td>17.15</td>\n",
       "      <td>0.19</td>\n",
       "      <td>294285</td>\n",
       "      <td>368</td>\n",
       "      <td>146839993</td>\n",
       "      <td>2017-01-01 00:00:00</td>\n",
       "      <td>EAEU</td>\n",
       "      <td>[1]</td>\n",
       "    </tr>\n",
       "    <tr>\n",
       "      <th>1</th>\n",
       "      <td>2.0</td>\n",
       "      <td>Germany</td>\n",
       "      <td>82521653</td>\n",
       "      <td>9.80</td>\n",
       "      <td>1.20</td>\n",
       "      <td>600000</td>\n",
       "      <td>90</td>\n",
       "      <td>82800000</td>\n",
       "      <td>2016-12-31 00:00:00</td>\n",
       "      <td>EU</td>\n",
       "      <td>Official estimate</td>\n",
       "    </tr>\n",
       "    <tr>\n",
       "      <th>2</th>\n",
       "      <td>3.0</td>\n",
       "      <td>Turkey</td>\n",
       "      <td>80810000</td>\n",
       "      <td>9.60</td>\n",
       "      <td>1.34</td>\n",
       "      <td>1035000</td>\n",
       "      <td>52</td>\n",
       "      <td>77695904</td>\n",
       "      <td>2016-12-31 00:00:00</td>\n",
       "      <td>NaN</td>\n",
       "      <td>[2]</td>\n",
       "    </tr>\n",
       "  </tbody>\n",
       "</table>\n",
       "</div>"
      ],
      "text/plain": [
       "   Rank  Country  Population  % of population  \\\n",
       "0   1.0   Russia   143964709            17.15   \n",
       "1   2.0  Germany    82521653             9.80   \n",
       "2   3.0   Turkey    80810000             9.60   \n",
       "\n",
       "   Average relative annual growth (%)  Average absolute annual growth  \\\n",
       "0                                0.19                          294285   \n",
       "1                                1.20                          600000   \n",
       "2                                1.34                         1035000   \n",
       "\n",
       "  Estimated doubling time (Years)  Official figure (where available)  \\\n",
       "0                             368                          146839993   \n",
       "1                              90                           82800000   \n",
       "2                              52                           77695904   \n",
       "\n",
       "   Date of last figure Regional grouping             Source  \n",
       "0  2017-01-01 00:00:00             EAEU                 [1]  \n",
       "1  2016-12-31 00:00:00               EU   Official estimate  \n",
       "2  2016-12-31 00:00:00               NaN                [2]  "
      ]
     },
     "execution_count": 259,
     "metadata": {},
     "output_type": "execute_result"
    }
   ],
   "source": [
    "europe.head(3)"
   ]
  },
  {
   "cell_type": "code",
   "execution_count": 260,
   "id": "3de73178",
   "metadata": {},
   "outputs": [
    {
     "data": {
      "text/html": [
       "<div>\n",
       "<style scoped>\n",
       "    .dataframe tbody tr th:only-of-type {\n",
       "        vertical-align: middle;\n",
       "    }\n",
       "\n",
       "    .dataframe tbody tr th {\n",
       "        vertical-align: top;\n",
       "    }\n",
       "\n",
       "    .dataframe thead th {\n",
       "        text-align: right;\n",
       "    }\n",
       "</style>\n",
       "<table border=\"1\" class=\"dataframe\">\n",
       "  <thead>\n",
       "    <tr style=\"text-align: right;\">\n",
       "      <th></th>\n",
       "      <th>Rank</th>\n",
       "      <th>Country</th>\n",
       "      <th>2017 population</th>\n",
       "      <th>% of pop.</th>\n",
       "      <th>Average relative annual growth</th>\n",
       "      <th>Average absolute annual growth</th>\n",
       "      <th>Official figure</th>\n",
       "      <th>Date of last figure</th>\n",
       "      <th>Source</th>\n",
       "    </tr>\n",
       "  </thead>\n",
       "  <tbody>\n",
       "    <tr>\n",
       "      <th>0</th>\n",
       "      <td>1</td>\n",
       "      <td>Germany</td>\n",
       "      <td>82800000</td>\n",
       "      <td>16.18</td>\n",
       "      <td>0.76</td>\n",
       "      <td>628876</td>\n",
       "      <td>82576900</td>\n",
       "      <td>2017-03-31</td>\n",
       "      <td>Official estimate</td>\n",
       "    </tr>\n",
       "    <tr>\n",
       "      <th>1</th>\n",
       "      <td>2</td>\n",
       "      <td>France</td>\n",
       "      <td>67210459</td>\n",
       "      <td>13.10</td>\n",
       "      <td>0.40</td>\n",
       "      <td>265557</td>\n",
       "      <td>67174000</td>\n",
       "      <td>2018-01-01</td>\n",
       "      <td>Monthly official estimate</td>\n",
       "    </tr>\n",
       "    <tr>\n",
       "      <th>2</th>\n",
       "      <td>3</td>\n",
       "      <td>United Kingdom</td>\n",
       "      <td>65808573</td>\n",
       "      <td>12.86</td>\n",
       "      <td>0.65</td>\n",
       "      <td>428793</td>\n",
       "      <td>65648100</td>\n",
       "      <td>2017-06-30</td>\n",
       "      <td>Official estimate</td>\n",
       "    </tr>\n",
       "  </tbody>\n",
       "</table>\n",
       "</div>"
      ],
      "text/plain": [
       "   Rank         Country  2017 population  % of pop.  \\\n",
       "0     1         Germany         82800000      16.18   \n",
       "1     2          France         67210459      13.10   \n",
       "2     3  United Kingdom         65808573      12.86   \n",
       "\n",
       "   Average relative annual growth  Average absolute annual growth  \\\n",
       "0                            0.76                          628876   \n",
       "1                            0.40                          265557   \n",
       "2                            0.65                          428793   \n",
       "\n",
       "   Official figure Date of last figure                     Source  \n",
       "0         82576900          2017-03-31          Official estimate  \n",
       "1         67174000          2018-01-01  Monthly official estimate  \n",
       "2         65648100          2017-06-30          Official estimate  "
      ]
     },
     "execution_count": 260,
     "metadata": {},
     "output_type": "execute_result"
    }
   ],
   "source": [
    "eu.head(3)"
   ]
  },
  {
   "cell_type": "code",
   "execution_count": 261,
   "id": "16cca326",
   "metadata": {},
   "outputs": [],
   "source": [
    "#converting the column \"country\" in each dataframe to sets\n",
    "set_europe=set(europe[\"Country\"])\n",
    "set_eu=set(eu[\"Country\"])"
   ]
  },
  {
   "cell_type": "code",
   "execution_count": 262,
   "id": "4768a712",
   "metadata": {},
   "outputs": [
    {
     "name": "stdout",
     "output_type": "stream",
     "text": [
      "True\n"
     ]
    }
   ],
   "source": [
    "#Check to confirm that the EU countries are a subset of countries in Europe\n",
    "eu_subset_europe=set_eu.issubset(set_europe)\n",
    "print(eu_subset_europe)"
   ]
  },
  {
   "cell_type": "code",
   "execution_count": 263,
   "id": "aba3b109",
   "metadata": {},
   "outputs": [
    {
     "name": "stdout",
     "output_type": "stream",
     "text": [
      "{'Belarus', 'Liechtenstein', 'Turkey', 'Monaco', 'Svalbard (Norway)', 'Georgia', 'Albania', 'Montenegro', 'Serbia', 'Moldova', 'Kosovo', 'Faroe Islands (Denmark)', 'Åland Islands (Finland)', 'Gibraltar (UK)', 'Jersey (UK)', 'Macedonia', 'Andorra', 'Norway', 'Ukraine', 'Iceland', 'Russia', 'Switzerland', 'San Marino', 'Isle of Man (UK)', 'Bosnia and Herzegovina', 'Vatican City', 'Armenia', 'Azerbaijan', 'Guernsey (UK)'}\n"
     ]
    }
   ],
   "source": [
    "#Find the set of countries that are in Europe but not the EU\n",
    "non_eu_countries=set_europe.difference(set_eu)\n",
    "print(non_eu_countries)"
   ]
  }
 ],
 "metadata": {
  "kernelspec": {
   "display_name": "base",
   "language": "python",
   "name": "python3"
  },
  "language_info": {
   "codemirror_mode": {
    "name": "ipython",
    "version": 3
   },
   "file_extension": ".py",
   "mimetype": "text/x-python",
   "name": "python",
   "nbconvert_exporter": "python",
   "pygments_lexer": "ipython3",
   "version": "3.12.7"
  }
 },
 "nbformat": 4,
 "nbformat_minor": 5
}
